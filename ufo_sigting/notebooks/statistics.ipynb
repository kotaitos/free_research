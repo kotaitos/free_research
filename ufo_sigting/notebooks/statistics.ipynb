{
 "cells": [
  {
   "cell_type": "code",
   "execution_count": null,
   "metadata": {},
   "outputs": [],
   "source": [
    "import numpy as np\n",
    "import pandas as pd\n",
    "import matplotlib.pyplot as plt\n",
    "import seaborn as sns"
   ]
  },
  {
   "cell_type": "code",
   "execution_count": null,
   "metadata": {},
   "outputs": [],
   "source": [
    "# Data Upload #\n",
    "ufo_db = '../datasets/scrubbed.csv'  # Dataset file path\n",
    "ufo_data = pd.read_csv(ufo_db, low_memory=False) "
   ]
  },
  {
   "cell_type": "code",
   "execution_count": null,
   "metadata": {},
   "outputs": [],
   "source": [
    "ufo_data.columns"
   ]
  },
  {
   "cell_type": "code",
   "execution_count": null,
   "metadata": {},
   "outputs": [],
   "source": [
    "ufo_data.shape"
   ]
  },
  {
   "cell_type": "code",
   "execution_count": null,
   "metadata": {},
   "outputs": [],
   "source": [
    "ufo_data.head(5)"
   ]
  },
  {
   "cell_type": "code",
   "execution_count": null,
   "metadata": {},
   "outputs": [],
   "source": [
    "nulvals = ufo_data.isnull().sum()\n",
    "nulpct = (nulvals / len(ufo_data))*100\n",
    "print(' Null Values (% of entries):')\n",
    "print(round(nulpct.sort_values(ascending=False),2))"
   ]
  },
  {
   "cell_type": "code",
   "execution_count": null,
   "metadata": {},
   "outputs": [],
   "source": [
    "# CLEAN Null values from dataset\n",
    "ufo_data = pd.read_csv(ufo_db, \n",
    "                        low_memory = False, \n",
    "                        na_values = ['UNKNOWN','UNK'], \n",
    "                        na_filter = True, \n",
    "                        skip_blank_lines = True)  # load dataset without NA values\n",
    "\n",
    "# Choose columns to work with based on our initial questions\n",
    "ufo_subcols = ['datetime', 'city', 'state', 'country', 'shape', 'duration (seconds)',\n",
    "        'comments', 'date posted', 'latitude',\n",
    "       'longitude ']\n",
    "\n",
    "# After tidying data and choosing what to work with, create dataframe to work with\n",
    "ufo_data = pd.DataFrame(data=ufo_data, columns=ufo_subcols)\n",
    "\n",
    "# ...drop null values\n",
    "ufo_data = ufo_data.dropna(thresh=8)\n",
    "\n",
    "#...reset the index\n",
    "ufo_data = ufo_data.reset_index(drop=True)\n",
    "\n",
    "# EXTRACT LATITUDES #\n",
    "ufo_data['latitude'] = pd.to_numeric(ufo_data['latitude'],errors = 'coerce')  # latitudes as numerics\n",
    "ufo_data['longitude '] = pd.to_numeric(ufo_data['longitude '], errors='coerce')\n",
    "\n",
    "# CHANGE VARIABLES UFO_DATE IN SCRIPT 1-1-18\n",
    "ufo_date = ufo_data.datetime.str.replace('24:00', '00:00')  # clean illegal values\n",
    "ufo_date = pd.to_datetime(ufo_date, format='%m/%d/%Y %H:%M')  # now in datetime\n",
    "\n",
    "ufo_data['datetime'] = ufo_data.datetime.str.replace('24:00', '00:00')\n",
    "ufo_data['datetime'] = pd.to_datetime(ufo_data['datetime'], format='%m/%d/%Y %H:%M')\n"
   ]
  },
  {
   "cell_type": "code",
   "execution_count": null,
   "metadata": {},
   "outputs": [],
   "source": [
    "ufo_yr = ufo_date.dt.year  # series with the year exclusively\n",
    "\n",
    "## Set axes ##\n",
    "years_data = ufo_yr.value_counts()\n",
    "years_index = years_data.index  # x ticks\n",
    "years_values = years_data.to_numpy()\n",
    "\n",
    "## Create Bar Plot ##\n",
    "plt.figure(figsize=(15,8))\n",
    "plt.xticks(rotation = 60)\n",
    "plt.title('UFO Sightings by Year')\n",
    "\n",
    "years_plot = sns.barplot(x=years_index[:60],y=years_values[:60], palette = \"GnBu\")"
   ]
  },
  {
   "cell_type": "code",
   "execution_count": null,
   "metadata": {},
   "outputs": [],
   "source": [
    "country_sightings = ufo_data.country.value_counts()  # num ufo sightings per country \n",
    "\n",
    "explode = (0, 0, 0, 0., 0.05)\n",
    "colors = ['lightblue','gold','yellowgreen','lightcoral','orange']\n",
    "country_sightings.plot(kind = 'pie', fontsize = 0, title='UFO Sightings by Country', colors=colors,\n",
    "                       autopct='%1.1f%%',shadow=True, explode=explode,figsize=(8,8))\n",
    "plt.legend(labels=['United States','Canada','United Kingdom','Australia','Germany'], loc=\"best\")\n",
    "plt.tight_layout()"
   ]
  },
  {
   "cell_type": "code",
   "execution_count": null,
   "metadata": {},
   "outputs": [],
   "source": [
    "ufo_data['country'].value_counts().head(10)\n"
   ]
  },
  {
   "cell_type": "code",
   "execution_count": null,
   "metadata": {},
   "outputs": [],
   "source": [
    "# Filter US Values to analyze US state sightings #\n",
    "usa_filter = ufo_data['country']=='us'  # filter non-usa country\n",
    "us_data = ufo_data[usa_filter]  # DF ufo_data of only US sightings - includes puerto rico and dc\n",
    "\n",
    "# Get x and y axes for states bar viz #\n",
    "states_sights = us_data.state.value_counts()  # State Data\n",
    "state_names = states_sights.index  # x axis ticks\n",
    "state_freq = states_sights.to_numpy()  # y axis values\n",
    "\n",
    "# States Frequency Pareto Chart #\n",
    "plt.figure(figsize=(15,8))\n",
    "plt.xticks(rotation = 60)\n",
    "plt.title('Total UFO Sightings by State')\n",
    "states_plot = sns.barplot(x=state_names,y=state_freq, palette=\"GnBu_r\")\n",
    "plt.show()\n",
    "print('Top 10 States for Total UFO Sightings:')\n",
    "print(states_sights[:10].sort_values(ascending=False))"
   ]
  },
  {
   "cell_type": "code",
   "execution_count": null,
   "metadata": {},
   "outputs": [],
   "source": [
    "statespop = {'al':4872725.,'ak':746079.,'az':7044577.,'ar':2998643.,'ca':39506094.,\n",
    "            'co':5632271.,'ct':3568174.,'de':960054.,'dc':691963.,'fl':20979964.,\n",
    "            'ga':10421344.,'hi':1431957.,'id':1713452.,'il':12764031.,'in':6653338.,\n",
    "            'ia':3147389.,'ks':2907857.,'ky':4449337.,'la':4694372.,'me':1333505.,\n",
    "            'md':6037911.,'ma':6839318.,'mi':9938885.,'mn':5557469.,'ms':2988062.,\n",
    "            'mo':6109796.,'mt':1052967.,'ne':1920467.,'nv':2996358,'nh':1339479.,\n",
    "            'nj':8953517.,'nm':2081702.,'ny':19743395.,'nc':10258390.,'nd':759069.,\n",
    "            'oh':11623656.,'ok':3939708.,'or':4162296.,'pa':12776550.,'pr':3661538.,\n",
    "            'ri':1057245.,'sc':5027404.,'sd':872989.,'tn':6707332.,'tx':28295553.,\n",
    "            'ut':3111802.,'vt':623100.,'va':8456029.,'wa':7415710.,'wv':1821151.,\n",
    "            'wi':5789525.,'wy':584447.} \n",
    "states_pop = pd.Series(statespop)  # turn dict into series type\n",
    "\n",
    "\n",
    "state_propsight = (states_sights / states_pop)*100 # prop data series for viz, scaled for style\n",
    "state_propsight = state_propsight.sort_values(ascending=False) \n",
    "\n",
    "# Visualize it\n",
    "us_namesp = state_propsight.index  # x ticks\n",
    "us_sightsp = state_propsight.to_numpy()  # y values\n",
    "\n",
    "plt.figure(figsize=(15,8))\n",
    "plt.xticks(rotation=60)\n",
    "plt.title('State UFO Sightings Relative to Population')\n",
    "sns.barplot(x = us_namesp[:50], y = us_sightsp[:50], palette=\"GnBu_r\")\n",
    "plt.show()\n",
    "print('States with Highest Proportion of UFO Sightings:')\n",
    "print(round(state_propsight[:10],2))"
   ]
  },
  {
   "cell_type": "code",
   "execution_count": null,
   "metadata": {},
   "outputs": [],
   "source": [
    "m_cts = (ufo_data['datetime'].dt.month.value_counts()).sort_index()\n",
    "m_ctsx = m_cts.index\n",
    "m_ctsy = m_cts.to_numpy()\n",
    "f, ax = plt.subplots(figsize=(15,8))\n",
    "\n",
    "sns.barplot(x=m_ctsx, y=m_ctsy, palette=\"YlGnBu\")\n",
    "ax.set_title('Global UFO Sightings by Month')\n",
    "ax.set_xlabel('Month')\n",
    "ax.set_ylabel('# Sightings')\n",
    "plt.xticks(rotation=45)\n",
    "plt.show()"
   ]
  },
  {
   "cell_type": "code",
   "execution_count": null,
   "metadata": {},
   "outputs": [],
   "source": [
    "# Add Season Column to ufo_date #\n",
    "# Given a datetime, return the season that it's in #\n",
    "ufo_datem = ufo_date.dt.month\n",
    "spring = range(5,7)\n",
    "summer = range(7,10)\n",
    "fall = range(10,12)\n",
    "seasons = []\n",
    "\n",
    "for st_date in ufo_datem:\n",
    "    # Conversion Process # \n",
    "    if st_date in spring:\n",
    "        seasons.append('Spring')\n",
    "    elif st_date in summer:\n",
    "        seasons.append('Summer')\n",
    "    elif st_date in fall:\n",
    "        seasons.append('Fall')\n",
    "    else:\n",
    "        seasons.append('Winter')"
   ]
  },
  {
   "cell_type": "code",
   "execution_count": null,
   "metadata": {},
   "outputs": [],
   "source": [
    "ufo_data['season'] = pd.Series(seasons, index=ufo_data.index)\n"
   ]
  },
  {
   "cell_type": "code",
   "execution_count": null,
   "metadata": {},
   "outputs": [],
   "source": [
    "# Add Hemisphere Column to ufo_date #\n",
    "hemis = []\n",
    "for st_loc in ufo_data['latitude']:\n",
    "    if st_loc >= 0 :\n",
    "        hemis.append('Northern Hemisphere')\n",
    "    else:\n",
    "        hemis.append('Southern Hemisphere')"
   ]
  },
  {
   "cell_type": "code",
   "execution_count": null,
   "metadata": {},
   "outputs": [],
   "source": [
    "ufo_data['hemisphere'] = (pd.Series(hemis, index=ufo_data.index)).astype('category')"
   ]
  },
  {
   "cell_type": "code",
   "execution_count": null,
   "metadata": {},
   "outputs": [],
   "source": [
    "ufo_data['season'].value_counts()\n"
   ]
  },
  {
   "cell_type": "code",
   "execution_count": null,
   "metadata": {},
   "outputs": [],
   "source": [
    "plt.figure(figsize=(15,8))\n",
    "sns.countplot(x='season', hue='hemisphere', data=ufo_data)"
   ]
  },
  {
   "cell_type": "code",
   "execution_count": null,
   "metadata": {},
   "outputs": [],
   "source": [
    "print(max(ufo_data['latitude']))\n",
    "print(min(ufo_data['latitude']))"
   ]
  },
  {
   "cell_type": "code",
   "execution_count": null,
   "metadata": {},
   "outputs": [],
   "source": [
    "resp_n = ufo_data[ufo_data['hemisphere'] == 'Northern Hemisphere']\n",
    "resp_s = ufo_data[ufo_data['hemisphere'] == 'Southern Hemisphere']"
   ]
  },
  {
   "cell_type": "code",
   "execution_count": null,
   "metadata": {},
   "outputs": [],
   "source": [
    "nsperc = resp_n['season'].value_counts() / len(resp_n) * 100\n",
    "ssperc = resp_s['season'].value_counts() / len(resp_s) * 100\n",
    "\n",
    "pos = list(range(len(nsperc)))\n",
    "width = 0.25\n",
    "fig, ax = plt.subplots(figsize = (15,8))\n",
    "\n",
    "plt.bar(pos, nsperc, width, alpha = .7, color='#0064A9')\n",
    "plt.bar([p + width*1.05 for p in pos], ssperc, width, alpha = .65, color='#E1E066')\n",
    "\n",
    "ax.set_title('UFO Sightings by Season')\n",
    "ax.set_xlabel('Season')\n",
    "ax.set_ylabel('% of UFO Sightings')\n",
    "ax.set_xticks([p + .5 * width for p in pos])\n",
    "ax.set_xticklabels(nsperc.index)\n",
    "plt.xticks(rotation=45)\n",
    "\n",
    "plt.ylim([0, 60])\n",
    "plt.legend(['Northern Hemisphere','Southern Hemisphere'], loc='upper left')\n",
    "plt.show()\n",
    "print('Northern Hemisphere:\\n', nsperc)\n",
    "print('Southern Hemisphere:\\n',ssperc)"
   ]
  },
  {
   "cell_type": "code",
   "execution_count": null,
   "metadata": {},
   "outputs": [],
   "source": [
    "n_mon = resp_n['datetime'].dt.month\n",
    "s_mon = resp_s['datetime'].dt.month\n",
    "\n",
    "# N.MONTH #\n",
    "monn_cts = n_mon.value_counts().sort_index()\n",
    "monn_in = monn_cts.index \n",
    "monn_val = monn_cts.to_numpy()\n",
    "\n",
    "# S.MONTH #\n",
    "mons_cts = s_mon.value_counts().sort_index()\n",
    "mons_in = mons_cts.index\n",
    "mons_val = mons_cts.to_numpy()\n",
    "\n",
    "plt.figure(figsize=(15,7))\n",
    "plt.xticks(rotation = 60)\n",
    "plt.title('UFO Sightings by Month - Northern Hemisphere')\n",
    "sns.barplot(x=monn_in,y=monn_val, palette=\"GnBu_d\")\n",
    "plt.show()\n",
    "\n",
    "plt.figure(figsize=(15,7))\n",
    "plt.xticks(rotation = 60)\n",
    "plt.title('UFO Sighting by Month - Southern Hemisphere')\n",
    "sns.barplot(x=mons_in, y=mons_val, palette=\"OrRd_d\")\n",
    "plt.show()\n",
    "\n",
    "print('Top Months for UFO Sightings in N. Hemishpere:')\n",
    "print(n_mon.value_counts()[:6])\n",
    "print('Top Months for UFO Sightings in S. Hemisphere:')\n",
    "print(s_mon.value_counts()[:6])"
   ]
  },
  {
   "cell_type": "code",
   "execution_count": null,
   "metadata": {},
   "outputs": [],
   "source": []
  }
 ],
 "metadata": {
  "kernelspec": {
   "display_name": "Python 3.9.0 ('env': venv)",
   "language": "python",
   "name": "python3"
  },
  "language_info": {
   "codemirror_mode": {
    "name": "ipython",
    "version": 3
   },
   "file_extension": ".py",
   "mimetype": "text/x-python",
   "name": "python",
   "nbconvert_exporter": "python",
   "pygments_lexer": "ipython3",
   "version": "3.9.0"
  },
  "orig_nbformat": 4,
  "vscode": {
   "interpreter": {
    "hash": "a16050d057e367c8a420945270366d5b5190c175d5b667d738fbc56fd426592a"
   }
  }
 },
 "nbformat": 4,
 "nbformat_minor": 2
}
