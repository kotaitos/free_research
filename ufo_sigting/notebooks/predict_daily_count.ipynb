{
 "cells": [
  {
   "cell_type": "markdown",
   "metadata": {},
   "source": [
    "# 日毎のUFO出現数（発見数）を予測"
   ]
  },
  {
   "cell_type": "code",
   "execution_count": null,
   "metadata": {},
   "outputs": [],
   "source": [
    "import pandas as pd\n",
    "import numpy as np\n",
    "import matplotlib.pyplot as plt\n",
    "\n",
    "from tensorflow.python.keras.models import Sequential\n",
    "from tensorflow.python.keras.layers import LSTM, Dropout, Dense\n",
    "from tensorflow.python.keras.callbacks import EarlyStopping\n",
    "from sklearn.preprocessing import MinMaxScaler\n",
    "from sklearn.metrics import mean_absolute_error\n",
    "from sklearn.metrics import mean_squared_error\n",
    "from sklearn.metrics import mean_absolute_percentage_error\n"
   ]
  },
  {
   "cell_type": "code",
   "execution_count": null,
   "metadata": {},
   "outputs": [],
   "source": [
    "df = pd.read_csv(\"../datasets/scrubbed_only_us_formatted.csv\", index_col=0)\n",
    "df.head()"
   ]
  },
  {
   "cell_type": "code",
   "execution_count": null,
   "metadata": {},
   "outputs": [],
   "source": [
    "df.dtypes"
   ]
  },
  {
   "cell_type": "code",
   "execution_count": null,
   "metadata": {},
   "outputs": [],
   "source": [
    "df[\"date\"] = pd.to_datetime(df[\"date\"])"
   ]
  },
  {
   "cell_type": "code",
   "execution_count": null,
   "metadata": {},
   "outputs": [],
   "source": [
    "dayly_count = df.groupby(pd.Grouper(key=\"date\", freq=\"D\")).size()\n",
    "dayly_count.head()"
   ]
  },
  {
   "cell_type": "code",
   "execution_count": null,
   "metadata": {},
   "outputs": [],
   "source": [
    "dayly_count.to_csv('../datasets/scrubbed_only_us_dayly_count.csv')"
   ]
  },
  {
   "cell_type": "code",
   "execution_count": null,
   "metadata": {},
   "outputs": [],
   "source": [
    "dayly_count.plot(figsize=(50, 5))"
   ]
  },
  {
   "cell_type": "markdown",
   "metadata": {},
   "source": [
    "## データセット生成"
   ]
  },
  {
   "cell_type": "code",
   "execution_count": null,
   "metadata": {},
   "outputs": [],
   "source": [
    "dataset = dayly_count.values\n",
    "dataset = dataset.astype('float32')\n",
    "dataset = np.reshape(dataset, (-1, 1))\n",
    "dataset.shape"
   ]
  },
  {
   "cell_type": "code",
   "execution_count": null,
   "metadata": {},
   "outputs": [],
   "source": [
    "def gen_dataset(dataset, lag_max):\n",
    "  X, y = [], []\n",
    "  for i in range(len(dataset) - lag_max):\n",
    "    a = i + lag_max\n",
    "    X.append(dataset[i:a, 0]) #ラグ変数\n",
    "    y.append(dataset[a, 0])   #目的変数\n",
    "  return np.array(X), np.array(y)"
   ]
  },
  {
   "cell_type": "code",
   "execution_count": null,
   "metadata": {},
   "outputs": [],
   "source": [
    "lag_max = 7\n",
    "X, y = gen_dataset(dataset, lag_max)"
   ]
  },
  {
   "cell_type": "code",
   "execution_count": null,
   "metadata": {},
   "outputs": [],
   "source": [
    "test_length = 365 #テストデータの期間\n",
    "\n",
    "X_train_0 = X[:-test_length,:] #学習データ\n",
    "X_test_0 = X[-test_length:,:]  #テストデータ\n",
    "\n",
    "y_train_0 = y[:-test_length] #学習データ\n",
    "y_test_0 = y[-test_length:]  #テストデータ\n",
    "\n",
    "y_train = y_train_0.reshape(-1,1)\n",
    "y_test = y_test_0.reshape(-1,1)\n"
   ]
  },
  {
   "cell_type": "code",
   "execution_count": null,
   "metadata": {},
   "outputs": [],
   "source": [
    "scaler_y = MinMaxScaler(feature_range=(0, 1))\n",
    "y_train = scaler_y.fit_transform(y_train)\n",
    "y_test = scaler_y.fit_transform(y_test)\n",
    "\n",
    "from pickle import dump\n",
    "dump(scaler_y, open('../scalers/scaler_y.pkl', 'wb'))"
   ]
  },
  {
   "cell_type": "code",
   "execution_count": null,
   "metadata": {},
   "outputs": [],
   "source": [
    "scaler_X = MinMaxScaler(feature_range=(0, 1))\n",
    "X_train_0 = scaler_X.fit_transform(X_train_0)\n",
    "X_test_0 = scaler_X.transform(X_test_0)\n",
    "\n",
    "from pickle import dump\n",
    "dump(scaler_X, open('../scalers/scaler_X.pkl', 'wb'))"
   ]
  },
  {
   "cell_type": "code",
   "execution_count": null,
   "metadata": {},
   "outputs": [],
   "source": [
    "X_train = np.reshape(X_train_0, (X_train_0.shape[0],1,X_train_0.shape[1]))\n",
    "X_test = np.reshape(X_test_0, (X_test_0.shape[0],1,X_test_0.shape[1]))\n",
    "print('X_train:',X_train.shape) #確認\n",
    "print('X_test:',X_test.shape) #確認"
   ]
  },
  {
   "cell_type": "code",
   "execution_count": null,
   "metadata": {},
   "outputs": [],
   "source": [
    "# モデル定義\n",
    "model = Sequential()\n",
    "model.add(LSTM(300,input_shape=(X_train.shape[1], X_train.shape[2])))\n",
    "model.add(Dropout(0.2))\n",
    "model.add(Dense(1, activation='linear'))\n",
    "# コンパイル\n",
    "model.compile(loss='mean_squared_error', optimizer='adam')\n",
    "# モデルの視覚化\n",
    "plot_model(model,show_shapes=True)"
   ]
  },
  {
   "cell_type": "code",
   "execution_count": null,
   "metadata": {},
   "outputs": [],
   "source": [
    "# EaelyStoppingの設定\n",
    "early_stopping =  EarlyStopping(monitor='val_loss',\n",
    "                                min_delta=0.0,\n",
    "                                patience=2)\n",
    "# 学習の実行\n",
    "history = model.fit(X_train, y_train,\n",
    "                    epochs=1000,\n",
    "                    batch_size=128,\n",
    "                    validation_split=0.2,\n",
    "                    callbacks=[early_stopping] ,\n",
    "                    verbose=1, \n",
    "                    shuffle=False)"
   ]
  },
  {
   "cell_type": "code",
   "execution_count": null,
   "metadata": {},
   "outputs": [],
   "source": [
    "# 学習結果の出力\n",
    "model.summary()\n",
    "plt.plot(history.history['loss'], label='Train Loss')\n",
    "plt.plot(history.history['val_loss'], label='valid Loss')\n",
    "plt.title('model loss')\n",
    "plt.ylabel('loss')\n",
    "plt.xlabel('epochs')\n",
    "plt.legend(loc='upper right')\n",
    "plt.show()"
   ]
  },
  {
   "cell_type": "code",
   "execution_count": null,
   "metadata": {},
   "outputs": [],
   "source": [
    "# テストデータの目的変数を予測\n",
    "y_test_pred_scaled = model.predict(X_test)\n",
    "y_test_pred = scaler_y.inverse_transform(y_test_pred_scaled)\n",
    "y_test = scaler_y.inverse_transform(y_test)\n",
    "# テストデータの目的変数と予測結果を結合\n",
    "df_test = pd.DataFrame(np.hstack((y_test,y_test_pred)),\n",
    "                       columns=['y','predict'])\n",
    "# 指標出力\n",
    "print('RMSE:')\n",
    "print(np.sqrt(mean_squared_error(y_test, y_test_pred)))\n",
    "print('MAE:')\n",
    "print(mean_absolute_error(y_test, y_test_pred)) \n",
    "print('MAPE:')\n",
    "print(mean_absolute_percentage_error(y_test, y_test_pred)) \n",
    "# グラフ化\n",
    "df_test.plot(kind='line')"
   ]
  },
  {
   "cell_type": "code",
   "execution_count": null,
   "metadata": {},
   "outputs": [],
   "source": [
    "y_test_pred_scaled"
   ]
  },
  {
   "cell_type": "code",
   "execution_count": null,
   "metadata": {},
   "outputs": [],
   "source": [
    "df_test"
   ]
  },
  {
   "cell_type": "code",
   "execution_count": null,
   "metadata": {},
   "outputs": [],
   "source": [
    "model.save('../models/only_us_daily_count.h5')"
   ]
  },
  {
   "cell_type": "code",
   "execution_count": null,
   "metadata": {},
   "outputs": [],
   "source": []
  }
 ],
 "metadata": {
  "kernelspec": {
   "display_name": "Python 3.9.0 ('env': venv)",
   "language": "python",
   "name": "python3"
  },
  "language_info": {
   "codemirror_mode": {
    "name": "ipython",
    "version": 3
   },
   "file_extension": ".py",
   "mimetype": "text/x-python",
   "name": "python",
   "nbconvert_exporter": "python",
   "pygments_lexer": "ipython3",
   "version": "3.9.0"
  },
  "orig_nbformat": 4,
  "vscode": {
   "interpreter": {
    "hash": "a16050d057e367c8a420945270366d5b5190c175d5b667d738fbc56fd426592a"
   }
  }
 },
 "nbformat": 4,
 "nbformat_minor": 2
}
