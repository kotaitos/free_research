{
 "cells": [
  {
   "cell_type": "markdown",
   "metadata": {},
   "source": [
    "# データ整形\n",
    "> データを時系列予測で扱いやすいように整形する"
   ]
  },
  {
   "cell_type": "code",
   "execution_count": null,
   "metadata": {},
   "outputs": [],
   "source": [
    "import pandas as pd\n",
    "from datetime import datetime"
   ]
  },
  {
   "cell_type": "code",
   "execution_count": null,
   "metadata": {},
   "outputs": [],
   "source": [
    "ufo_data = pd.read_csv('../datasets/scrubbed.csv', usecols=[0, 1, 2, 9, 10], low_memory=False)\n",
    "ufo_data.head()\n"
   ]
  },
  {
   "cell_type": "code",
   "execution_count": null,
   "metadata": {},
   "outputs": [],
   "source": [
    "ufo_data = pd.concat([ufo_data, ufo_data['datetime'].str.split(' ', expand=True)], axis=1).drop('datetime', axis=1)\n",
    "ufo_data.rename(columns={0: 'date', 1: 'time'}, inplace=True)\n",
    "ufo_data.head()"
   ]
  },
  {
   "cell_type": "code",
   "execution_count": null,
   "metadata": {},
   "outputs": [],
   "source": [
    "ufo_data['date'] = pd.to_datetime(ufo_data['date'])\n",
    "ufo_data = ufo_data[ufo_data['date'] >= datetime(2000, 1, 1)]"
   ]
  },
  {
   "cell_type": "code",
   "execution_count": null,
   "metadata": {},
   "outputs": [],
   "source": [
    "ufo_data.to_csv('../datasets/scrubbed_only_us_formatted.csv')"
   ]
  },
  {
   "cell_type": "code",
   "execution_count": null,
   "metadata": {},
   "outputs": [],
   "source": []
  }
 ],
 "metadata": {
  "kernelspec": {
   "display_name": "Python 3.9.0 ('env': venv)",
   "language": "python",
   "name": "python3"
  },
  "language_info": {
   "codemirror_mode": {
    "name": "ipython",
    "version": 3
   },
   "file_extension": ".py",
   "mimetype": "text/x-python",
   "name": "python",
   "nbconvert_exporter": "python",
   "pygments_lexer": "ipython3",
   "version": "3.9.0"
  },
  "orig_nbformat": 4,
  "vscode": {
   "interpreter": {
    "hash": "a16050d057e367c8a420945270366d5b5190c175d5b667d738fbc56fd426592a"
   }
  }
 },
 "nbformat": 4,
 "nbformat_minor": 2
}
