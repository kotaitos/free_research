{
 "cells": [
  {
   "cell_type": "code",
   "execution_count": null,
   "metadata": {},
   "outputs": [],
   "source": [
    "import numpy as np\n",
    "from tensorflow.python.keras import models\n",
    "from sklearn.preprocessing import MinMaxScaler"
   ]
  },
  {
   "cell_type": "code",
   "execution_count": null,
   "metadata": {},
   "outputs": [],
   "source": [
    "model_path = '../models/only_us_daily_count.h5'\n",
    "model = models.load_model(model_path)"
   ]
  },
  {
   "cell_type": "code",
   "execution_count": null,
   "metadata": {},
   "outputs": [],
   "source": [
    "def gen_input(dataset, lag_max):\n",
    "  X = []\n",
    "  for i in range(len(dataset) - lag_max + 1):\n",
    "    a = i + lag_max\n",
    "    X.append(dataset[i:a, 0])\n",
    "  return np.array(X)"
   ]
  },
  {
   "cell_type": "code",
   "execution_count": null,
   "metadata": {},
   "outputs": [],
   "source": [
    "import random\n",
    "\n",
    "random_list = np.array([random.uniform(0, 50) for i in range(7)])\n",
    "\n",
    "random_list\n"
   ]
  },
  {
   "cell_type": "code",
   "execution_count": null,
   "metadata": {},
   "outputs": [],
   "source": [
    "random_list_0 = random_list.astype('float32')\n",
    "\n",
    "random_list_0.shape"
   ]
  },
  {
   "cell_type": "code",
   "execution_count": null,
   "metadata": {},
   "outputs": [],
   "source": [
    "random_list = np.reshape(random_list, (-1, 1))\n",
    "\n",
    "random_list.shape"
   ]
  },
  {
   "cell_type": "code",
   "execution_count": null,
   "metadata": {},
   "outputs": [],
   "source": [
    "from pickle import load\n",
    "scaler_X = load(open('../scalers/scaler_X.pkl', \"rb\"))\n",
    "\n",
    "X = gen_input(random_list, 7)\n",
    "\n",
    "X_scaled = scaler_X.fit_transform(X)\n",
    "\n",
    "input = np.reshape(X_scaled, (X_scaled.shape[0],1,X_scaled.shape[1]))\n",
    "\n",
    "input.shape"
   ]
  },
  {
   "cell_type": "code",
   "execution_count": null,
   "metadata": {},
   "outputs": [],
   "source": [
    "pred = model.predict(input)"
   ]
  },
  {
   "cell_type": "code",
   "execution_count": null,
   "metadata": {},
   "outputs": [],
   "source": [
    "from pickle import load\n",
    "scaler_y = load(open('../scalers/scaler_y.pkl', \"rb\"))\n",
    "\n",
    "pred = scaler_y.inverse_transform(pred)"
   ]
  },
  {
   "cell_type": "code",
   "execution_count": null,
   "metadata": {},
   "outputs": [],
   "source": [
    "pred"
   ]
  },
  {
   "cell_type": "code",
   "execution_count": null,
   "metadata": {},
   "outputs": [],
   "source": []
  }
 ],
 "metadata": {
  "kernelspec": {
   "display_name": "Python 3.9.0 ('env': venv)",
   "language": "python",
   "name": "python3"
  },
  "language_info": {
   "codemirror_mode": {
    "name": "ipython",
    "version": 3
   },
   "file_extension": ".py",
   "mimetype": "text/x-python",
   "name": "python",
   "nbconvert_exporter": "python",
   "pygments_lexer": "ipython3",
   "version": "3.9.0"
  },
  "orig_nbformat": 4,
  "vscode": {
   "interpreter": {
    "hash": "a16050d057e367c8a420945270366d5b5190c175d5b667d738fbc56fd426592a"
   }
  }
 },
 "nbformat": 4,
 "nbformat_minor": 2
}
